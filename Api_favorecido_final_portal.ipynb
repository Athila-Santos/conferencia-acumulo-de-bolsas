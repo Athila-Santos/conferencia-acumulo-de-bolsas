{
 "cells": [
  {
   "cell_type": "markdown",
   "id": "nma261wR0otL",
   "metadata": {
    "id": "nma261wR0otL"
   },
   "source": [
    "# *Bibliotecas*"
   ]
  },
  {
   "cell_type": "code",
   "execution_count": null,
   "id": "I6dOrWwE602e",
   "metadata": {
    "colab": {
     "base_uri": "https://localhost:8080/"
    },
    "id": "I6dOrWwE602e",
    "outputId": "cd4f0467-0731-4ace-cf45-8b5e63a57680"
   },
   "outputs": [],
   "source": [
    "pip install ratelimiter"
   ]
  },
  {
   "cell_type": "code",
   "execution_count": null,
   "id": "S6FUCMg90wli",
   "metadata": {
    "id": "S6FUCMg90wli",
    "scrolled": true
   },
   "outputs": [],
   "source": [
    "import requests\n",
    "import pandas as pd\n",
    "from ratelimiter import RateLimiter\n",
    "# import os\n",
    "# os.getcwd()\n",
    "# os.chdir('*****')"
   ]
  },
  {
   "cell_type": "markdown",
   "id": "JcI8TnOKvoNz",
   "metadata": {
    "id": "JcI8TnOKvoNz"
   },
   "source": [
    "# Importando relação de favorecidos\n",
    "\n",
    "---"
   ]
  },
  {
   "cell_type": "code",
   "execution_count": null,
   "id": "3cce1573",
   "metadata": {
    "colab": {
     "base_uri": "https://localhost:8080/"
    },
    "id": "3cce1573",
    "outputId": "8f018451-bd45-4751-8671-2c0aa7f0151d"
   },
   "outputs": [],
   "source": [
    "cpfs = pd.read_csv('codpessoa.csv',dtype={'favorecido': str})\n",
    "\n",
    "favorecidos = cpfs.values.tolist()\n",
    "len(favorecidos)"
   ]
  },
  {
   "cell_type": "markdown",
   "id": "_UETxbYouBkG",
   "metadata": {
    "id": "_UETxbYouBkG"
   },
   "source": [
    "\n",
    "# Conexão *API* do Portal da Transparência"
   ]
  },
  {
   "cell_type": "code",
   "execution_count": null,
   "id": "2f3013df",
   "metadata": {
    "id": "2f3013df"
   },
   "outputs": [],
   "source": [
    "#url recurso recebido\n",
    "url = \"https://api.portaldatransparencia.gov.br/api-de-dados/despesas/recursos-recebidos\"\n",
    "\n",
    "#params\n",
    "codigoFavorecido = favorecidos\n",
    "mesAnoFim = '12/2023'\n",
    "mesAnoInicio = '09/2023'\n",
    "pagina = 1\n",
    "\n",
    "# Monta o dicionário com as informações capturadas\n",
    "params = {\"codigoFavorecido\": codigoFavorecido,\n",
    "          \"mesAnoFim\": mesAnoFim,\n",
    "          \"mesAnoInicio\": mesAnoInicio,\n",
    "          \"pagina\": pagina\n",
    "          }\n",
    "\n",
    "#chave da API\n",
    "headers = {\"chave-api-dados\":\"1f580edc90fe43ea4a082e6ea3590ca6\"}"
   ]
  },
  {
   "cell_type": "markdown",
   "id": "jGnCLkY9vYGt",
   "metadata": {
    "id": "jGnCLkY9vYGt"
   },
   "source": [
    "*Onde a mágica acontece*\n",
    "---"
   ]
  },
  {
   "cell_type": "code",
   "execution_count": null,
   "id": "bqBO7yBuuxxY",
   "metadata": {
    "id": "bqBO7yBuuxxY"
   },
   "outputs": [],
   "source": [
    "soma_despesas = pd.DataFrame()\n",
    "codigoFavorecido = favorecidos\n",
    "\n",
    "# limitador de taxa para permitir no máximo x requisições por minuto\n",
    "limite = RateLimiter(max_calls=395, period=60)\n",
    "\n",
    "for i in range(0,len(codigoFavorecido)):\n",
    "    # limitador de taxa em nosso loop\n",
    "    with limite:\n",
    "        params = {\"codigoFavorecido\": codigoFavorecido[i],\n",
    "                  \"mesAnoFim\": mesAnoFim,\n",
    "                  \"mesAnoInicio\": mesAnoInicio,\n",
    "                  \"pagina\": pagina,\n",
    "                  }\n",
    "        resultado = requests.get(url, params=params, headers=headers)\n",
    "        despesas = pd.DataFrame(resultado.json())\n",
    "        soma_despesas = pd.concat([soma_despesas,despesas])"
   ]
  },
  {
   "cell_type": "markdown",
   "id": "r8GS7z9T298q",
   "metadata": {
    "id": "r8GS7z9T298q"
   },
   "source": [
    "# *Tratamento dos dados obtidos*"
   ]
  },
  {
   "cell_type": "code",
   "execution_count": null,
   "id": "ucstOkXZ28DU",
   "metadata": {
    "id": "ucstOkXZ28DU"
   },
   "outputs": [],
   "source": [
    "# sem_duplicadas = soma_despesas.drop_duplicates(subset=['nomePessoa'])\n",
    "\n",
    "soma_despesas_resumido = soma_despesas[['anoMes',\n",
    "                                        'nomePessoa',\n",
    "                                        'valor',\n",
    "                                        'nomeUG',\n",
    "                                        'nomeOrgao'\n",
    "                                      ]]\n",
    "\n",
    "soma_despesas_resumido = soma_despesas_resumido.copy()\n",
    "\n",
    "soma_despesas_resumido.rename(columns={'anoMes':'Ano/Mes',\n",
    "                                        'nomePessoa':'Nome',\n",
    "                                        'valor':'Valor',\n",
    "                                        'nomeUG':'Unidade Gestora',\n",
    "                                        'nomeOrgao':'Unidade Orcamentaria'\n",
    "                                        }, inplace=True)"
   ]
  },
  {
   "cell_type": "markdown",
   "id": "87291151",
   "metadata": {},
   "source": [
    "# Filtro de acúmulos"
   ]
  },
  {
   "cell_type": "code",
   "execution_count": null,
   "id": "fcc1d97c",
   "metadata": {
    "scrolled": false
   },
   "outputs": [],
   "source": [
    "fora_do_escopo = soma_despesas_resumido.query(\"`Unidade Gestora` != ['PRO-REITORIA DE ASSUNTOS ESTUDANTIS - PROAES','PRO-REITORIA DE EXTENSAO'] and `Ano/Mes` == [202309, 202311]\")\n",
    "\n",
    "# Resta agora realizar uma conferência se os bolsistas acima de fato receberam bolsa da Proexc simultaneamente com a outra\n",
    "\n",
    "nomes = fora_do_escopo['Nome'].unique()\n",
    "soma_despesas_resumido[soma_despesas_resumido['Nome'].isin(nomes)]"
   ]
  },
  {
   "cell_type": "markdown",
   "id": "5qEXFMe2y5sD",
   "metadata": {
    "id": "5qEXFMe2y5sD"
   },
   "source": [
    "# Export to csv"
   ]
  },
  {
   "cell_type": "code",
   "execution_count": null,
   "id": "r8vuAqJolvuE",
   "metadata": {
    "id": "r8vuAqJolvuE"
   },
   "outputs": [],
   "source": [
    "fora_do_escopo.to_csv('possivel_acumulo.csv',encoding = 'utf-8-sig', index = False)"
   ]
  },
  {
   "cell_type": "code",
   "execution_count": null,
   "id": "Y192_obt1lpz",
   "metadata": {
    "id": "Y192_obt1lpz"
   },
   "outputs": [],
   "source": [
    "#relatorio_final.to_csv('relatorio_favorecido_final.csv',encoding='utf-8', index=False)\n",
    "\n",
    "# recurso_resumido = recurso_resumido.copy()\n",
    "\n",
    "# recurso_resumido.to_csv('only_diff_ufpe.csv', encoding = 'utf-8-sig', index = False)"
   ]
  }
 ],
 "metadata": {
  "colab": {
   "provenance": []
  },
  "kernelspec": {
   "display_name": "Python 3 (ipykernel)",
   "language": "python",
   "name": "python3"
  },
  "language_info": {
   "codemirror_mode": {
    "name": "ipython",
    "version": 3
   },
   "file_extension": ".py",
   "mimetype": "text/x-python",
   "name": "python",
   "nbconvert_exporter": "python",
   "pygments_lexer": "ipython3",
   "version": "3.11.5"
  }
 },
 "nbformat": 4,
 "nbformat_minor": 5
}
